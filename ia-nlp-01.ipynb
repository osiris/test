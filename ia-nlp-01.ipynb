{
  "nbformat": 4,
  "nbformat_minor": 0,
  "metadata": {
    "colab": {
      "provenance": [],
      "include_colab_link": true
    },
    "kernelspec": {
      "name": "python3",
      "display_name": "Python 3"
    },
    "language_info": {
      "name": "python"
    }
  },
  "cells": [
    {
      "cell_type": "markdown",
      "metadata": {
        "id": "view-in-github",
        "colab_type": "text"
      },
      "source": [
        "<a href=\"https://colab.research.google.com/github/osiris/test/blob/develop/ia-nlp-01.ipynb\" target=\"_parent\"><img src=\"https://colab.research.google.com/assets/colab-badge.svg\" alt=\"Open In Colab\"/></a>"
      ]
    },
    {
      "cell_type": "markdown",
      "source": [
        "# Práctico 1: Preprocesamiento"
      ],
      "metadata": {
        "id": "hJ6JsBNcXjVY"
      }
    },
    {
      "cell_type": "markdown",
      "source": [
        "# 0 - Setup"
      ],
      "metadata": {
        "id": "f6ow0-7aXrM4"
      }
    },
    {
      "cell_type": "code",
      "execution_count": null,
      "metadata": {
        "id": "ia2-AYyXXVJj"
      },
      "outputs": [],
      "source": [
        "! pip install nltk scikit-learn gensim transformers"
      ]
    },
    {
      "cell_type": "markdown",
      "source": [
        "Descarga de un dataset de detección de Spam"
      ],
      "metadata": {
        "id": "RiSj2PTVuh3t"
      }
    },
    {
      "cell_type": "code",
      "source": [
        "! wget https://archive.ics.uci.edu/static/public/228/sms+spam+collection.zip\n",
        "! unzip sms+spam+collection.zip"
      ],
      "metadata": {
        "colab": {
          "base_uri": "https://localhost:8080/"
        },
        "id": "Y9mV3NcPuhF7",
        "outputId": "7157674b-a1f4-43c5-dc94-24ec44f0f20d"
      },
      "execution_count": null,
      "outputs": [
        {
          "output_type": "stream",
          "name": "stdout",
          "text": [
            "--2024-09-02 02:18:52--  https://archive.ics.uci.edu/static/public/228/sms+spam+collection.zip\n",
            "Resolving archive.ics.uci.edu (archive.ics.uci.edu)... 128.195.10.252\n",
            "Connecting to archive.ics.uci.edu (archive.ics.uci.edu)|128.195.10.252|:443... connected.\n",
            "HTTP request sent, awaiting response... 200 OK\n",
            "Length: unspecified\n",
            "Saving to: ‘sms+spam+collection.zip’\n",
            "\n",
            "sms+spam+collection     [  <=>               ] 198.65K   758KB/s    in 0.3s    \n",
            "\n",
            "2024-09-02 02:18:53 (758 KB/s) - ‘sms+spam+collection.zip’ saved [203415]\n",
            "\n",
            "Archive:  sms+spam+collection.zip\n",
            "  inflating: SMSSpamCollection       \n",
            "  inflating: readme                  \n"
          ]
        }
      ]
    },
    {
      "cell_type": "markdown",
      "source": [
        "# 1 - NLTK\n",
        "\n",
        "[*Natural Language Toolkit* (NLTK)](https://www.nltk.org/) es una popular herramienta para hacer procesamiento y preprocesamiento de lenguaje natural."
      ],
      "metadata": {
        "id": "6JCQAZwaXvZH"
      }
    },
    {
      "cell_type": "code",
      "source": [
        "import nltk\n",
        "nltk.download('punkt')  # <-- Signos de puntuacion\n",
        "nltk.download('stopwords')  # <-- Stopwords en inglés\n",
        "nltk.download('wordnet')  # <-- WordNet, un extenso vocabulario en inglés\n",
        "from nltk.tokenize import word_tokenize\n",
        "from nltk.corpus import stopwords\n",
        "from nltk.lm import Vocabulary\n",
        "from nltk.stem import PorterStemmer\n",
        "from nltk.stem import WordNetLemmatizer"
      ],
      "metadata": {
        "colab": {
          "base_uri": "https://localhost:8080/"
        },
        "id": "IPyIQ0_8zNQG",
        "outputId": "b9affd26-90bb-4af3-d1ee-e2c849aa44ba"
      },
      "execution_count": null,
      "outputs": [
        {
          "output_type": "stream",
          "name": "stderr",
          "text": [
            "[nltk_data] Downloading package punkt to /root/nltk_data...\n",
            "[nltk_data]   Unzipping tokenizers/punkt.zip.\n",
            "[nltk_data] Downloading package stopwords to /root/nltk_data...\n",
            "[nltk_data]   Unzipping corpora/stopwords.zip.\n",
            "[nltk_data] Downloading package wordnet to /root/nltk_data...\n"
          ]
        }
      ]
    },
    {
      "cell_type": "markdown",
      "source": [
        "Probamos con una oración de ejemplo"
      ],
      "metadata": {
        "id": "AmAG0xTS0EBW"
      }
    },
    {
      "cell_type": "code",
      "source": [
        "# Oración de ejemplo\n",
        "text = \"This is an example sentence. It contains some stop words and punctuation marks!\""
      ],
      "metadata": {
        "id": "XQHAdphc0DiC"
      },
      "execution_count": null,
      "outputs": []
    },
    {
      "cell_type": "markdown",
      "source": [
        "Tokenizamos la oración usando el vocabulario provisto por [WordNet](https://wordnet.princeton.edu/)."
      ],
      "metadata": {
        "id": "_yjxDg5X0MJ7"
      }
    },
    {
      "cell_type": "code",
      "source": [
        "# Tokenización\n",
        "tokens = word_tokenize(text)\n",
        "\n",
        "print('Texto original:', text)\n",
        "print('Texto tokenizado:', tokens)"
      ],
      "metadata": {
        "colab": {
          "base_uri": "https://localhost:8080/"
        },
        "id": "wfc3TfYL0gDe",
        "outputId": "c1f6414f-9007-4164-9f08-33fa2b18f455"
      },
      "execution_count": null,
      "outputs": [
        {
          "output_type": "stream",
          "name": "stdout",
          "text": [
            "Texto original: This is an example sentence. It contains some stop words and punctuation marks!\n",
            "Texto tokenizado: ['This', 'is', 'an', 'example', 'sentence', '.', 'It', 'contains', 'some', 'stop', 'words', 'and', 'punctuation', 'marks', '!']\n"
          ]
        }
      ]
    },
    {
      "cell_type": "markdown",
      "source": [
        "Eliminamos las stopwords."
      ],
      "metadata": {
        "id": "MX__yu5G0t91"
      }
    },
    {
      "cell_type": "code",
      "source": [
        "# Eliminar stopwords\n",
        "stop_words = set(stopwords.words('english'))\n",
        "filtered_tokens = [word for word in tokens if word.lower() not in stop_words]\n",
        "\n",
        "print('Tokens iniciales:', tokens)\n",
        "print('Tokens sin stopwords:', filtered_tokens)"
      ],
      "metadata": {
        "colab": {
          "base_uri": "https://localhost:8080/"
        },
        "id": "ndpmEx960sly",
        "outputId": "57ce73fa-3111-40ed-89ea-5273838c1c52"
      },
      "execution_count": null,
      "outputs": [
        {
          "output_type": "stream",
          "name": "stdout",
          "text": [
            "Tokens iniciales: ['This', 'is', 'an', 'example', 'sentence', '.', 'It', 'contains', 'some', 'stop', 'words', 'and', 'punctuation', 'marks', '!']\n",
            "Tokens sin stopwords: ['example', 'sentence', '.', 'contains', 'stop', 'words', 'punctuation', 'marks', '!']\n"
          ]
        }
      ]
    },
    {
      "cell_type": "code",
      "source": [
        "FUNCTION = 'lemmatization' #@param [\"lemmatization\", \"stemming\"]\n",
        "\n",
        "if FUNCTION == 'lemmatization':\n",
        "  # Lemmatization\n",
        "  lemmatizer = WordNetLemmatizer()\n",
        "  final_tokens = [lemmatizer.lemmatize(word) for word in filtered_tokens]\n",
        "elif FUNCTION == \"stemming\":\n",
        "  # Stemming\n",
        "  stemmer = PorterStemmer()\n",
        "  final_tokens = [stemmer.stem(word) for word in filtered_tokens]\n",
        "\n",
        "print(\"Tokens iniciales: \", filtered_tokens)\n",
        "print(f\"Tokens con {FUNCTION}: \", final_tokens)"
      ],
      "metadata": {
        "colab": {
          "base_uri": "https://localhost:8080/"
        },
        "id": "e2sPqNeTr0ii",
        "outputId": "e0ae0815-d1bc-49d5-9c31-f3fdc2bf74ed",
        "cellView": "form"
      },
      "execution_count": null,
      "outputs": [
        {
          "output_type": "stream",
          "name": "stdout",
          "text": [
            "Tokens iniciales:  ['example', 'sentence', '.', 'contains', 'stop', 'words', 'punctuation', 'marks', '!']\n",
            "Tokens con lemmatization:  ['example', 'sentence', '.', 'contains', 'stop', 'word', 'punctuation', 'mark', '!']\n"
          ]
        }
      ]
    },
    {
      "cell_type": "markdown",
      "source": [
        "Armo un vocabulario con los tokens que encontré"
      ],
      "metadata": {
        "id": "DT_9WEB311Lw"
      }
    },
    {
      "cell_type": "code",
      "source": [
        "vocab = Vocabulary(final_tokens, unk_cutoff=1)"
      ],
      "metadata": {
        "id": "Er2vwtGb10PY"
      },
      "execution_count": null,
      "outputs": []
    },
    {
      "cell_type": "markdown",
      "source": [
        "Puedo ver qué está en el vocabulario y qué no:"
      ],
      "metadata": {
        "id": "Qafy0FmB3N5h"
      }
    },
    {
      "cell_type": "code",
      "source": [
        "WORD = \"aliens\" #@param \"example\"\n",
        "\n",
        "print(\"\")\n",
        "print(f\"{WORD} --> {vocab.lookup(WORD)}\")"
      ],
      "metadata": {
        "colab": {
          "base_uri": "https://localhost:8080/"
        },
        "id": "loxdUu0Z1x3E",
        "outputId": "e2c3454a-1866-46fc-cc5d-c443da95e441"
      },
      "execution_count": null,
      "outputs": [
        {
          "output_type": "stream",
          "name": "stdout",
          "text": [
            "\n",
            "aliens --> <UNK>\n"
          ]
        }
      ]
    },
    {
      "cell_type": "markdown",
      "source": [
        "Podemos empaquetar todo en una clase que nos proveerá de preprocesamiento usando [Scikit-Learn](https://scikit-learn.org/stable/)."
      ],
      "metadata": {
        "id": "wDB_aFm1KwsE"
      }
    },
    {
      "cell_type": "code",
      "source": [
        "from sklearn.base import TransformerMixin\n",
        "\n",
        "class PreprocessingEn(TransformerMixin):\n",
        "  def __init__(self, function):\n",
        "    self.tokenizer = word_tokenize\n",
        "    self.function = function\n",
        "\n",
        "  def fit(self, X=None, y=None):\n",
        "    if self.function == 'lemmatization':\n",
        "      # Lemmatization\n",
        "      self.normalization = WordNetLemmatizer()\n",
        "      self.norm_fn = self.normalization.lemmatize\n",
        "    elif self.function == \"stemming\":\n",
        "      # Stemming\n",
        "      self.normalization = PorterStemmer()\n",
        "      self.norm_fn = self.normalization.stem\n",
        "\n",
        "    self.stop_words = set(stopwords.words('english'))\n",
        "    return self\n",
        "\n",
        "  def transform(self, X, y=None):\n",
        "    result = []\n",
        "    for sent in X:\n",
        "      tokens = self.tokenizer(sent)\n",
        "      filtered_tokens = [word for word in tokens if word.lower() not in self.stop_words]\n",
        "      final_tokens = [self.norm_fn(word) for word in filtered_tokens]\n",
        "      result.append(final_tokens)\n",
        "    return result"
      ],
      "metadata": {
        "id": "Pu5ut7QGK_YI"
      },
      "execution_count": null,
      "outputs": []
    },
    {
      "cell_type": "code",
      "source": [
        "corpus = [\n",
        "    \"This is a sample sentence.\",\n",
        "    \"Another example sentence.\",\n",
        "    \"The kid on top of a truck.\",\n",
        "]\n",
        "\n",
        "preprocess = PreprocessingEn('lemmatization').fit()\n",
        "\n",
        "result = preprocess.transform(corpus)\n",
        "\n",
        "for original, preprocessed in zip(corpus, result):\n",
        "  print('Original: ', original)\n",
        "  print('Preprocesada: ', preprocessed)\n",
        "  print('\\n')"
      ],
      "metadata": {
        "colab": {
          "base_uri": "https://localhost:8080/"
        },
        "id": "JVyNz3wbMsvz",
        "outputId": "ca48a595-12fd-4442-bbc8-5e5117e44fdd"
      },
      "execution_count": null,
      "outputs": [
        {
          "output_type": "stream",
          "name": "stdout",
          "text": [
            "Original:  This is a sample sentence.\n",
            "Preprocesada:  ['sample', 'sentence', '.']\n",
            "\n",
            "\n",
            "Original:  Another example sentence.\n",
            "Preprocesada:  ['Another', 'example', 'sentence', '.']\n",
            "\n",
            "\n",
            "Original:  The kid on top of a truck.\n",
            "Preprocesada:  ['kid', 'top', 'truck', '.']\n",
            "\n",
            "\n"
          ]
        }
      ]
    },
    {
      "cell_type": "markdown",
      "source": [
        "# 2 - No hay vocabulario inicial"
      ],
      "metadata": {
        "id": "aLDrKg0D4ZhQ"
      }
    },
    {
      "cell_type": "code",
      "source": [
        "! curl --header 'Host: drive.usercontent.google.com' --header 'User-Agent: Mozilla/5.0 (X11; Linux x86_64) AppleWebKit/537.36 (KHTML, like Gecko) Chrome/117.0.0.0 Safari/537.36' --header 'Accept: text/html,application/xhtml+xml,application/xml;q=0.9,image/avif,image/webp,image/apng,*/*;q=0.8' --header 'Accept-Language: en-US,en;q=0.6' --header 'Cookie: SID=bgiZWLaLYKq4iqj3nXroMprEr9bvkh4ih-bfBLqwsTuH3i8H5l9Tg3YqsBy6M_cm0bBLBQ.; __Secure-1PSID=bgiZWLaLYKq4iqj3nXroMprEr9bvkh4ih-bfBLqwsTuH3i8HK67gdLIU9g1faDiz5j6eMg.; __Secure-3PSID=bgiZWLaLYKq4iqj3nXroMprEr9bvkh4ih-bfBLqwsTuH3i8H-lF0WKlXjGb5_8n1Tg1MXA.; HSID=Ar439EY6o482Taaxh; SSID=A4ayVEK6mAxKuBIgM; APISID=yfFe90xPRuPmP93J/AVFZaXfhhSQnvLgCl; SAPISID=GC_yfKKqBi0J9jk5/AmhdIWSRCQ1SZkwmw; __Secure-1PAPISID=GC_yfKKqBi0J9jk5/AmhdIWSRCQ1SZkwmw; __Secure-3PAPISID=GC_yfKKqBi0J9jk5/AmhdIWSRCQ1SZkwmw; SEARCH_SAMESITE=CgQIrpkB; AEC=Ackid1QuAfCf-cQ9GfyuIqY08n-9hZCCEyxP2aPefjiwgRzi1Zyvwhao7Bs; 1P_JAR=2023-09-30-00; OGPC=19037325-1:; NID=511=LOGKeYp-8pcIp4RzbyKF4MUvptab14CMrJ0cAjuWh1yjkUb_-hHEgH8JMgE6QUuDn2G0fJ5cDSEk7cgzlgU6RSPNsdyhpLEsYLY9l1T4KsqLKu2SKuDqnJWL17lY04mIpJgnebAUhOnFp-ceQMwNxuhL7ftgf2li5xWGw-JeLgjP4GzhtiqLbv06cmSjN8sX_NufLsZGDMQ54aJKPORtCmpqeTrC-bM9oJkf-zptychUlEN-x359JIZD6yhhVTak1QZpe06frNTEbYV5W55x_rj4CakShH_mJbHeJzuS3IerqDnItrr4REEYbyP3zCms0LqqY9yUHEkSjk44pLweB4kigFWnZfXUN7gvWvLJrvjT26OvBuuyM62poTQf7xILTPIpEiwUZIHTJkOxLVj0tU28SrSLpZhrrBe_dk3L49YI8b5Qtw; __Secure-1PSIDTS=sidts-CjIB3e41hdD7BRKfsNeNGefreYcgjwkivhXbvnkNuCLQEfDp31IbK_NyYY4RqwMJsq-MNBAA; __Secure-3PSIDTS=sidts-CjIB3e41hdD7BRKfsNeNGefreYcgjwkivhXbvnkNuCLQEfDp31IbK_NyYY4RqwMJsq-MNBAA; SIDCC=ACA-OxMjzikCAYLCiKKi-6vbf3O4agWE1kO27kcb0ZtIV9A56gtkF0RsUn01gT_4HAWsSRoXE3s; __Secure-1PSIDCC=ACA-OxMVtBywb2tRgiNKkNAzjDt5hZBjPuNvGR65wqP9LEOpYBTdkNkqxGI9zBNhbL6cDspQJDw; __Secure-3PSIDCC=ACA-OxPRNpyuA_5drqWExqOyTgIO9abchysVwFjkNpP7PvPMx1-jnzee7Sbq3_jR1neUPrhkuXd7' --header 'Connection: keep-alive' 'https://drive.usercontent.google.com/download?id=1VchoJFlPCeFfG5-aRnVIe2UGVA3b4ieQ&export=download&authuser=1&confirm=t&uuid=456f5ebb-6b69-44c0-adf9-d28b4cf354bb&at=APZUnTU-FH5rnS9pw3lddqLA0I92:1696181034208' -L -o 'martin_fierro.txt'"
      ],
      "metadata": {
        "colab": {
          "base_uri": "https://localhost:8080/"
        },
        "id": "t0bhY5eMN61q",
        "outputId": "2ce74ac6-818f-49a8-c0ad-efc63db5908a"
      },
      "execution_count": null,
      "outputs": [
        {
          "output_type": "stream",
          "name": "stdout",
          "text": [
            "  % Total    % Received % Xferd  Average Speed   Time    Time     Time  Current\n",
            "                                 Dload  Upload   Total   Spent    Left  Speed\n",
            "100 67632  100 67632    0     0  27971      0  0:00:02  0:00:02 --:--:-- 27981\n"
          ]
        }
      ]
    },
    {
      "cell_type": "code",
      "source": [
        "with open('martin_fierro.txt', encoding=\"utf-8\") as fl:\n",
        "  martin_fierro_raw = fl.read()"
      ],
      "metadata": {
        "id": "tMwTmsz15e-N"
      },
      "execution_count": null,
      "outputs": []
    },
    {
      "cell_type": "code",
      "source": [
        "print(martin_fierro_raw[25000:25300])"
      ],
      "metadata": {
        "colab": {
          "base_uri": "https://localhost:8080/"
        },
        "id": "jjQkG2eI68I7",
        "outputId": "4bab5475-ec54-46fa-d6bf-96bed60c0f2b"
      },
      "execution_count": null,
      "outputs": [
        {
          "output_type": "stream",
          "name": "stdout",
          "text": [
            "a indagación:\n",
            "si había venido al cantón\n",
            "en tal tiempo o en tal otro...\n",
            "y si había venido en potro,\n",
            "en reyuno o redomón.\n",
            "\n",
            "131\n",
            "Y todo era alborotar\n",
            "al ñudo, y hacer papel;\n",
            "conocí que era pastel\n",
            "pa engordar con mi guayaca;\n",
            "mas si voy al coronel\n",
            "me hacen bramar en la estaca.\n",
            "\n",
            "132\n",
            "¡Ah, hijos de una...! ¡\n"
          ]
        }
      ]
    },
    {
      "cell_type": "markdown",
      "source": [
        "Podemos ajustar un vocabulario y crear nuestra clase de preprocesamiento"
      ],
      "metadata": {
        "id": "EaYv4K93NglM"
      }
    },
    {
      "cell_type": "code",
      "source": [
        "class PreprocessFierro(TransformerMixin):\n",
        "  def __init__(self, unk_cutoff=2):\n",
        "    self.unk_cutoff = unk_cutoff\n",
        "\n",
        "  def fit(self, X=None, y=None):\n",
        "    words = X.lower().split()  # <-- Pasar a minúscula y separar por espacios en blanco\n",
        "    self.vocab = Vocabulary(words, unk_cutoff=self.unk_cutoff)\n",
        "\n",
        "  def transform(self, X, y=None):\n",
        "    result = []\n",
        "    for sent in X:\n",
        "      tokens = [self.vocab.lookup(x) for x in sent.lower().split()]\n",
        "      result.append(tokens)\n",
        "    return result\n"
      ],
      "metadata": {
        "id": "Do3ho-JSNfPx"
      },
      "execution_count": null,
      "outputs": []
    },
    {
      "cell_type": "code",
      "source": [
        "corpus = [\n",
        "    \"Una oración en español.\",\n",
        "    \"si había venido al cantón en tal tiempo o en tal otro...\",\n",
        "    \"A sentence out of context.\"\n",
        "]\n",
        "\n",
        "preprocess = PreprocessFierro(unk_cutoff=10)\n",
        "preprocess.fit(martin_fierro_raw)\n",
        "result = preprocess.transform(corpus)\n",
        "\n",
        "for original, preprocessed in zip(corpus, result):\n",
        "  print('Original: ', original)\n",
        "  print('Preprocesada: ', preprocessed)\n",
        "  print('\\n')"
      ],
      "metadata": {
        "colab": {
          "base_uri": "https://localhost:8080/"
        },
        "id": "cOdKxbBJPKBU",
        "outputId": "7b06b0b1-bcab-4a53-d39f-f203bbce88fe"
      },
      "execution_count": null,
      "outputs": [
        {
          "output_type": "stream",
          "name": "stdout",
          "text": [
            "Original:  Una oración en español.\n",
            "Preprocesada:  ['una', '<UNK>', 'en', '<UNK>']\n",
            "\n",
            "\n",
            "Original:  si había venido al cantón en tal tiempo o en tal otro...\n",
            "Preprocesada:  ['si', 'había', '<UNK>', 'al', '<UNK>', 'en', 'tal', '<UNK>', 'o', 'en', 'tal', '<UNK>']\n",
            "\n",
            "\n",
            "Original:  A sentence out of context.\n",
            "Preprocesada:  ['a', '<UNK>', '<UNK>', '<UNK>', '<UNK>']\n",
            "\n",
            "\n"
          ]
        }
      ]
    },
    {
      "cell_type": "markdown",
      "metadata": {
        "id": "UiTDZ9AIdKvu"
      },
      "source": [
        "## Expresiones regulares\n",
        "\n",
        "También conocido popularmente como **RegEx**. Es un mini lenguaje de programación diseñado para realizar búsquedas en strings. Son extremadamente útiles para:\n",
        "- Extraer datos de distintos tipos de archivos, texto o con otro tipo de codificación.\n",
        "- Web scraping: como veremos en las próximas clases, las regex son un buen método para encontrar la información que se necesita en un sitio web.\n",
        "- Limpieza de datos: herramienta fundamental en el repertorio del científico de datos para limpiar datos quitando caracteres \"ruidosos\", o armando nuevos \"features\" según la presencia o no de cierto texto.\n",
        "\n",
        "\n",
        "fuente: [Humai - NLP 1](https://github.com/institutohumai/cursos-python/tree/master/NLP/1_Introduccion)"
      ]
    },
    {
      "cell_type": "code",
      "source": [
        "doc = 'Usualmente existe una relación costo beneficio entre las distintas técnicas'"
      ],
      "metadata": {
        "id": "OeKbBo3F22gN"
      },
      "execution_count": null,
      "outputs": []
    },
    {
      "cell_type": "markdown",
      "metadata": {
        "id": "O_E5sG15A0aB"
      },
      "source": [
        "Recursos útiles para regex:\n",
        "\n",
        "- [Sitio para armar RegEx online](https://regexr.com/)\n",
        "- [Alternativa](https://regex101.com/)\n",
        "- [CheatSheet](https://www.dataquest.io/wp-content/uploads/2019/03/python-regular-expressions-cheat-sheet.pdf)\n"
      ]
    },
    {
      "cell_type": "markdown",
      "metadata": {
        "id": "J0ECMOvov8sC"
      },
      "source": [
        "Python utiliza la libreria llamada **re** para todo lo relacionado a regular expressions"
      ]
    },
    {
      "cell_type": "code",
      "execution_count": null,
      "metadata": {
        "colab": {
          "base_uri": "https://localhost:8080/"
        },
        "id": "h2kqp9jZA0aD",
        "outputId": "878830ee-2332-483b-e4ab-c1e37dc3d3e4"
      },
      "outputs": [
        {
          "output_type": "execute_result",
          "data": {
            "text/plain": [
              "['Usualmente',\n",
              " 'existe',\n",
              " 'una',\n",
              " 'relación',\n",
              " 'costo',\n",
              " 'beneficio',\n",
              " 'entre',\n",
              " 'las',\n",
              " 'distintas',\n",
              " 'técnicas']"
            ]
          },
          "metadata": {},
          "execution_count": 28
        }
      ],
      "source": [
        "# Tokenización simple con RegEx\n",
        "import re\n",
        "re.findall('\\w+', doc)"
      ]
    },
    {
      "cell_type": "code",
      "execution_count": null,
      "metadata": {
        "colab": {
          "base_uri": "https://localhost:8080/"
        },
        "outputId": "2b7762c0-6f13-4b29-f870-37b0ec467e18",
        "id": "DYPYu5_e34Jz"
      },
      "outputs": [
        {
          "name": "stdout",
          "output_type": "stream",
          "text": [
            "['d']\n"
          ]
        }
      ],
      "source": [
        "import re\n",
        "\n",
        "# a- extraer números de una oración.\n",
        "texto = \"Mi nombre es Juan y mi teléfono es 1564232324\"\n",
        "regla_de_busqueda = \"\\d+\"\n",
        "# print(texto)\n",
        "print(re.findall(regla_de_busqueda, texto))"
      ]
    },
    {
      "cell_type": "markdown",
      "metadata": {
        "id": "BhrBctRSA0aB"
      },
      "source": [
        "Las funciones principales de la librería re son:\n",
        "- re.findall(pattern, string) para encontrar todos los resultados de una búsqueda\n",
        "- re.search(pattern, string) para encontrar el primer resultado que coincida\n",
        "- re.sub(pattern, replace, string) para substituir un texto por otro"
      ]
    },
    {
      "cell_type": "markdown",
      "metadata": {
        "id": "sZI-yZHCA0aB"
      },
      "source": [
        "\n",
        "<h2><center>Sintaxis para construir regex</center></h2>\n",
        "\n",
        "\n",
        "<h3><center>Grupos de captura</center></h3>\n",
        "\n",
        "\n",
        "|     |                       |\n",
        "|-----|-----------------------|\n",
        "| ()  | grupo de captura      |\n",
        "|(?:) | grupo de no captura   |\n",
        "\n",
        "<h3><center>Operadores</center></h3>\n",
        "\n",
        "|         |                      |\n",
        "|---------|----------------------|\n",
        "| \\|      | operador \"or\"        |\n",
        "| \\\\      | Escapar, o interpretar literalmente |\n",
        "| []      | conjunto (cada elemento estará automáticamente separado por \"or\")             |\n",
        "|[m-z3-9] | rangos               |\n",
        "\n",
        "\n",
        "<h3><center>Cuantificadores</center></h3>\n",
        "\n",
        "|      |                                              |\n",
        "|------|----------------------------------------------|\n",
        "| +    | Uno o más del elemento anterior              |\n",
        "| *    | Cero o más del elemento anterior             |\n",
        "| {4,} | Cuatro o más del elemento anterior           |\n",
        "| ?    | Cambia el operador anterior de lazy a greedy |"
      ]
    },
    {
      "cell_type": "markdown",
      "metadata": {
        "id": "EBrQinMNA0aD"
      },
      "source": [
        "#### ¿Cómo se usa? Veamos ejemplos"
      ]
    },
    {
      "cell_type": "code",
      "execution_count": null,
      "metadata": {
        "colab": {
          "base_uri": "https://localhost:8080/"
        },
        "id": "gExQVt8yJt0C",
        "outputId": "3c26d38e-a32a-4425-b6e7-d3652f1eb6fa"
      },
      "outputs": [
        {
          "output_type": "execute_result",
          "data": {
            "text/plain": [
              "['1564232324']"
            ]
          },
          "metadata": {},
          "execution_count": 46
        }
      ],
      "source": [
        "# En realidad los telefonos no son cualquier seguidilla de numeros\n",
        "# suelen tener entre 6 y 8 numeros despues del 15\n",
        "texto = \"Mi nombre es María y mi teléfono es 1564232324\"\n",
        "regla_de_busqueda = \"15\\d{6,8}\"\n",
        "re.findall(regla_de_busqueda,texto)"
      ]
    },
    {
      "cell_type": "code",
      "execution_count": null,
      "metadata": {
        "colab": {
          "base_uri": "https://localhost:8080/"
        },
        "id": "emfBX_OoJt0C",
        "outputId": "419560ed-fba4-4603-f6cb-f16a584d7020"
      },
      "outputs": [
        {
          "output_type": "execute_result",
          "data": {
            "text/plain": [
              "['114232324', '154232324']"
            ]
          },
          "metadata": {},
          "execution_count": 47
        }
      ],
      "source": [
        "# En realidad los telefonos no arrancan siempre con 15\n",
        "# capaz empiezan con 11 si son de buenos aires por ejemplo\n",
        "texto = \"Mi nombre es Carlos y mi teléfono es 114232324 154232324\"\n",
        "regla_de_busqueda = \"(?:15|11)\\d{6,8}\"\n",
        "re.findall(regla_de_busqueda,texto)"
      ]
    },
    {
      "cell_type": "code",
      "execution_count": null,
      "metadata": {
        "colab": {
          "base_uri": "https://localhost:8080/"
        },
        "id": "rsTajQ8KJt0D",
        "outputId": "be184282-770b-4683-826c-a2cb2c84eb59"
      },
      "outputs": [
        {
          "output_type": "execute_result",
          "data": {
            "text/plain": [
              "['11 6423-2324']"
            ]
          },
          "metadata": {},
          "execution_count": 48
        }
      ],
      "source": [
        "# En realidad los telefonos pueden tener un guión o espacio a parte de números\n",
        "texto = \"Mi nombre es asfasfeaf33 y mi teléfono es 11 6423-2324\"\n",
        "regla_de_busqueda = \"(?:15|11)[0-9\\s-]{6,10}\"\n",
        "re.findall(regla_de_busqueda,texto)"
      ]
    },
    {
      "cell_type": "code",
      "execution_count": null,
      "metadata": {
        "id": "iViD2h1AJt0D"
      },
      "outputs": [],
      "source": [
        "# Ejercicio: extraer todos los mails\n",
        "\n",
        "texto = \"Hola te paso mi mail python@hotmail.com, saludos. Si no te funciona mandame a este otro, pedro_2010@yahoo.com\"\n"
      ]
    },
    {
      "cell_type": "markdown",
      "metadata": {
        "id": "QkHgBvavADgm"
      },
      "source": [
        "## Distancia de edición\n",
        "\n",
        "Para afrontar el \"ruido\" en nuestros textos, tenemos una importante herramienta: la distancia de edición.\n",
        "\n",
        "También llamada Distancia de Levenshtein, nos dice la cantidad mínima de operaciones requerida para llevar de un string al otro. Expresandola de una manera sencilla (y en su versión sin normalizar entre 0 y 1) podemos explicarla así:\n",
        "\n",
        "$$\\mathit{L} = S+D+I$$\n",
        "\n",
        "Donde $S$ = sustitución, $D$ = Eliminación, $I$ = inserción (de un caracter).\n",
        "\n",
        "\n",
        "Como en muchos idiomas la raíz importa más que el resto de la palabra, a veces se usa la métrica Jaro Winkler que pondera más los caracteres iniciales."
      ]
    },
    {
      "cell_type": "code",
      "execution_count": null,
      "metadata": {
        "id": "qtLW-PVpEhp2"
      },
      "outputs": [],
      "source": [
        "%%capture\n",
        "!pip install pyjarowinkler\n",
        "from nltk.metrics import edit_distance\n",
        "from pyjarowinkler import distance as jwdist"
      ]
    },
    {
      "cell_type": "code",
      "execution_count": null,
      "metadata": {
        "colab": {
          "base_uri": "https://localhost:8080/"
        },
        "id": "z6e8fQ-R57PY",
        "outputId": "12b15925-15db-488a-dfc6-4d9515e8864c"
      },
      "outputs": [
        {
          "output_type": "stream",
          "name": "stdout",
          "text": [
            "'pero' vs 'perro':\n",
            "Distancia Levenshtein -> 1\n",
            "Similitud Jaro Winkler -> 0.95\n",
            "----------------------------------------\n",
            "'pero' vs 'pierdo':\n",
            "Distancia Levenshtein -> 2\n",
            "Similitud Jaro Winkler -> 0.9\n",
            "----------------------------------------\n",
            "'nueve' vs 'mueve':\n",
            "Distancia Levenshtein -> 1\n",
            "Similitud Jaro Winkler -> 0.87\n",
            "----------------------------------------\n",
            "'totalmente' vs 'diferentes':\n",
            "Distancia Levenshtein -> 7\n",
            "Similitud Jaro Winkler -> 0.52\n",
            "----------------------------------------\n",
            "'pero' vs 'basta':\n",
            "Distancia Levenshtein -> 5\n",
            "Similitud Jaro Winkler -> 0.0\n",
            "----------------------------------------\n"
          ]
        }
      ],
      "source": [
        "# Definimos una lista de tuplas de palabras\n",
        "palabras = [(\"pero\", \"perro\"),(\"pero\", \"pierdo\"), (\"nueve\", \"mueve\"),  (\"totalmente\",\"diferentes\"), (\"pero\", \"basta\")]\n",
        "\n",
        "# Calculamos las metricas de distancia pasando cada tupla como argumentos a levdist() y get_jaro_distance()\n",
        "for x,y in palabras:\n",
        "    print(f\"'{x}' vs '{y}':\")\n",
        "    print(\"Distancia Levenshtein ->\", edit_distance(x,y))\n",
        "    print(\"Similitud Jaro Winkler ->\",jwdist.get_jaro_distance(x,y))\n",
        "    print(\"-\"*40)"
      ]
    },
    {
      "cell_type": "markdown",
      "metadata": {
        "id": "44F9E4z9dJCu"
      },
      "source": [
        "## Búsqueda difusa de strings (fuzzy string matching)\n",
        "\n",
        "Técnica muy útil para tener en el repertorio, nos permite encontrar coincidencias que no son exactas. En el caso más sencillo, la búsqueda difusa nos devolverá un puntaje de similitud entre los strings relacionada a las diferencias entre los caracteres. Existen variaciones que consideran cuántas unidades (palabras, tokens) coinciden, que ordenan la oración antes, o que borran repetidos."
      ]
    },
    {
      "cell_type": "code",
      "execution_count": null,
      "metadata": {
        "id": "N1H5I_nSpxMe"
      },
      "outputs": [],
      "source": [
        "%%capture\n",
        "!pip install thefuzz[speedup]\n",
        "from thefuzz import process, fuzz"
      ]
    },
    {
      "cell_type": "code",
      "execution_count": null,
      "metadata": {
        "id": "EaIGqFoPp30R"
      },
      "outputs": [],
      "source": [
        "def get_match(string, lista_strings):\n",
        "    \"\"\"Para buscar coincidencias entre nombre con los nombres\"\"\"\n",
        "    mejor_match, puntaje = process.extractBests(string.strip(), lista_strings, scorer=fuzz.token_set_ratio)[0]\n",
        "    return mejor_match, puntaje"
      ]
    },
    {
      "cell_type": "code",
      "execution_count": null,
      "metadata": {
        "colab": {
          "base_uri": "https://localhost:8080/"
        },
        "id": "U-brWWiIp9OR",
        "outputId": "3ec266d8-f667-4d16-b141-6e99f047968f"
      },
      "outputs": [
        {
          "output_type": "execute_result",
          "data": {
            "text/plain": [
              "('Pedro', 80)"
            ]
          },
          "metadata": {},
          "execution_count": 54
        }
      ],
      "source": [
        "# Completar\n",
        "busqueda = 'Pebro'\n",
        "candidatos = 'María, Fabio, Paula, Natu, Pedro, Miguel'.split(', ')\n",
        "\n",
        "get_match(busqueda, candidatos)"
      ]
    },
    {
      "cell_type": "markdown",
      "metadata": {
        "id": "D0Rs6ABnxUcU"
      },
      "source": [
        "# SpaCy\n",
        "\n",
        "Mientras NLTK se centra en técnicas más bien tradicionales, [spaCy](https://spacy.io/) ofrece una API muy cómoda que integra modelos de aprendizaje automático que resuelven tareas típicas de lingüística computacional.\n"
      ]
    },
    {
      "cell_type": "code",
      "execution_count": null,
      "metadata": {
        "id": "O0A1YNxlHq4O"
      },
      "outputs": [],
      "source": [
        "%%capture\n",
        "!python -m spacy download es_core_news_md\n",
        "import numpy as np\n",
        "import spacy\n",
        "from spacy import displacy"
      ]
    },
    {
      "cell_type": "code",
      "execution_count": null,
      "metadata": {
        "id": "8w3z8ZugxUcV"
      },
      "outputs": [],
      "source": [
        "# Inicializamos Spacy con modelos en español\n",
        "nlp = spacy.load('es_core_news_md')"
      ]
    },
    {
      "cell_type": "code",
      "execution_count": null,
      "metadata": {
        "id": "QF_uKXtf0enc"
      },
      "outputs": [],
      "source": [
        "ejemplo = 'El Doctor del Hospital Austríaco le dijo a Josefina que actuando de maneras probabilísticas el cerebro aprende conceptos discretos. ¡Qué fenómeno misterioso!'"
      ]
    },
    {
      "cell_type": "code",
      "execution_count": null,
      "metadata": {
        "colab": {
          "base_uri": "https://localhost:8080/"
        },
        "id": "KsuwNwjVxUcd",
        "outputId": "c6ead8af-7e51-4399-a555-7144f4e5fb9c"
      },
      "outputs": [
        {
          "output_type": "execute_result",
          "data": {
            "text/plain": [
              "spacy.tokens.doc.Doc"
            ]
          },
          "metadata": {},
          "execution_count": 70
        }
      ],
      "source": [
        "# Instanciamos un Doc de spacy con nuestro texto\n",
        "doc = nlp(ejemplo)\n",
        "type(doc)"
      ]
    },
    {
      "cell_type": "code",
      "execution_count": null,
      "metadata": {
        "colab": {
          "base_uri": "https://localhost:8080/"
        },
        "id": "Hg8kunNYxUcy",
        "outputId": "66c58ab3-1706-4f6d-f207-07acf835cd1a"
      },
      "outputs": [
        {
          "output_type": "stream",
          "name": "stdout",
          "text": [
            "El\n",
            "Doctor\n",
            "del\n",
            "Hospital\n",
            "Austríaco\n",
            "le\n",
            "dijo\n",
            "a\n",
            "Josefina\n",
            "que\n",
            "actuando\n",
            "de\n",
            "maneras\n",
            "probabilísticas\n",
            "el\n",
            "cerebro\n",
            "aprende\n",
            "conceptos\n",
            "discretos\n",
            ".\n",
            "¡\n",
            "Qué\n",
            "fenómeno\n",
            "misterioso\n",
            "!\n"
          ]
        }
      ],
      "source": [
        "for word in doc:\n",
        "    print(word.text)"
      ]
    },
    {
      "cell_type": "code",
      "execution_count": null,
      "metadata": {
        "colab": {
          "base_uri": "https://localhost:8080/"
        },
        "id": "2QZNMBF_xUci",
        "outputId": "6e8919ed-55a5-469b-87e6-7c9c00b6569a"
      },
      "outputs": [
        {
          "output_type": "execute_result",
          "data": {
            "text/plain": [
              "El Doctor del Hospital Austríaco le dijo a Josefina que actuando de maneras probabilísticas el cerebro aprende conceptos discretos. ¡Qué fenómeno misterioso!"
            ]
          },
          "metadata": {},
          "execution_count": 72
        }
      ],
      "source": [
        "doc"
      ]
    },
    {
      "cell_type": "markdown",
      "metadata": {
        "id": "k70BkVqxxUd3"
      },
      "source": [
        "## Lemmatización\n",
        "\n",
        "El *stemming* vemos que es un enfoque bastante bruto para normalizar, desechando parte de la información de la palabra. Podemos tener un problema de polisemia, con una raíz refiriendo a palabras muy distintas. La solución a esto es la **lematización**, que busca llevar a una palabra a su forma canónica o esencial."
      ]
    },
    {
      "cell_type": "code",
      "execution_count": null,
      "metadata": {
        "colab": {
          "base_uri": "https://localhost:8080/"
        },
        "id": "nOl_sc8VxUd4",
        "outputId": "358f3d63-97ba-4501-e62c-9821f42c03e9"
      },
      "outputs": [
        {
          "output_type": "stream",
          "name": "stdout",
          "text": [
            "el\n",
            "Doctor\n",
            "del\n",
            "Hospital\n",
            "Austríaco\n",
            "él\n",
            "decir\n",
            "a\n",
            "Josefina\n",
            "que\n",
            "actuar\n",
            "de\n",
            "manera\n",
            "probabilística\n",
            "el\n",
            "cerebro\n",
            "aprender\n",
            "concepto\n",
            "discreto\n",
            ".\n",
            "¡\n",
            "qué\n",
            "fenómeno\n",
            "misterioso\n",
            "!\n"
          ]
        }
      ],
      "source": [
        "for word in doc:\n",
        "    print(word.lemma_)"
      ]
    },
    {
      "cell_type": "markdown",
      "metadata": {
        "id": "Q-7wpmQBOePm"
      },
      "source": [
        "## Limitaciones de la Bolsa de Palabras\n",
        "\n",
        "Utilizando las técnicas que vimos (normalización, n-gramas, stop words) podemos mejorar significativamente el rendimiento de algoritmos de Aprendizaje Automático que se basan en bolsa de palabras.\n",
        "\n",
        "Sin embargo, si entrenamos un clasificador usando esta matriz, lo que hará es encontrar relaciones estadísticas entre la ocurrencia de cierto token con su categoría (en el caso supervisado). ¿Qué problemas se te puede que puede tener?\n",
        "\n",
        "- Contexto\n",
        "- Orden\n",
        "- Dimensionalidad (variaciones en las palabras, n gramas)\n",
        "\n",
        "\n",
        "En las próximas clases veremos cómo las redes neuronales abordan estos obstáculos."
      ]
    },
    {
      "cell_type": "markdown",
      "metadata": {
        "id": "0ML6niFYOfer"
      },
      "source": [
        "# Tareas de NLP\n",
        "\n",
        "SpaCy integra en su API de una manera elegante atributos y métodos generados por modelos de Aprendizaje Automático."
      ]
    },
    {
      "cell_type": "markdown",
      "metadata": {
        "id": "xMeVpNzTxUc4"
      },
      "source": [
        "## Segmentación de oraciones"
      ]
    },
    {
      "cell_type": "code",
      "execution_count": null,
      "metadata": {
        "colab": {
          "base_uri": "https://localhost:8080/"
        },
        "id": "eYasvkfvxUc7",
        "outputId": "7da0e7bc-a480-4531-d744-533b2d53a702"
      },
      "outputs": [
        {
          "output_type": "execute_result",
          "data": {
            "text/plain": [
              "[El Doctor del Hospital Austríaco le dijo a Josefina que actuando de maneras probabilísticas el cerebro aprende conceptos discretos.,\n",
              " ¡Qué fenómeno misterioso!]"
            ]
          },
          "metadata": {},
          "execution_count": 76
        }
      ],
      "source": [
        "list(doc.sents)"
      ]
    },
    {
      "cell_type": "markdown",
      "metadata": {
        "id": "lyWeO8cNxUdD"
      },
      "source": [
        "## Part-Of-Speech Tags\n",
        "\n",
        "Podemos estimar la función gramatical de cada palabra, accediendo directamente al atributo `.pos_` de cada token:\n"
      ]
    },
    {
      "cell_type": "code",
      "execution_count": null,
      "metadata": {
        "colab": {
          "base_uri": "https://localhost:8080/"
        },
        "id": "dMQkMahvxUdF",
        "outputId": "2d1a8fe5-7a55-4330-a054-6fa1c6b156e2"
      },
      "outputs": [
        {
          "output_type": "stream",
          "name": "stdout",
          "text": [
            "El DET\n",
            "Doctor PROPN\n",
            "del ADP\n",
            "Hospital PROPN\n",
            "Austríaco PROPN\n",
            "le PRON\n",
            "dijo VERB\n",
            "a ADP\n",
            "Josefina PROPN\n",
            "que SCONJ\n",
            "actuando VERB\n",
            "de ADP\n",
            "maneras NOUN\n",
            "probabilísticas ADJ\n",
            "el DET\n",
            "cerebro NOUN\n",
            "aprende VERB\n",
            "conceptos NOUN\n",
            "discretos ADJ\n",
            ". PUNCT\n",
            "¡ PUNCT\n",
            "Qué DET\n",
            "fenómeno NOUN\n",
            "misterioso ADJ\n",
            "! PUNCT\n"
          ]
        }
      ],
      "source": [
        "for word in doc:\n",
        "    print(word.text, word.pos_)"
      ]
    },
    {
      "cell_type": "markdown",
      "metadata": {
        "id": "iU-3XumnxUdQ"
      },
      "source": [
        "## Dependency parsing\n",
        "\n",
        "¡También contamos con información sobre la co-referencia o dependencia sintáctica entre términos!"
      ]
    },
    {
      "cell_type": "code",
      "execution_count": null,
      "metadata": {
        "colab": {
          "base_uri": "https://localhost:8080/",
          "height": 615
        },
        "id": "6n5rWDQSxUdV",
        "outputId": "f67679b7-220b-4f2a-b1be-290402225b5c"
      },
      "outputs": [
        {
          "output_type": "display_data",
          "data": {
            "text/plain": [
              "<IPython.core.display.HTML object>"
            ],
            "text/html": [
              "<span class=\"tex2jax_ignore\"><svg xmlns=\"http://www.w3.org/2000/svg\" xmlns:xlink=\"http://www.w3.org/1999/xlink\" xml:lang=\"es\" id=\"91ccdb3f6b6740e5bd0afff6b4cab3b0-0\" class=\"displacy\" width=\"3900\" height=\"574.5\" direction=\"ltr\" style=\"max-width: none; height: 574.5px; color: #000000; background: #ffffff; font-family: Arial; direction: ltr\">\n",
              "<text class=\"displacy-token\" fill=\"currentColor\" text-anchor=\"middle\" y=\"484.5\">\n",
              "    <tspan class=\"displacy-word\" fill=\"currentColor\" x=\"50\">El</tspan>\n",
              "    <tspan class=\"displacy-tag\" dy=\"2em\" fill=\"currentColor\" x=\"50\">DET</tspan>\n",
              "</text>\n",
              "\n",
              "<text class=\"displacy-token\" fill=\"currentColor\" text-anchor=\"middle\" y=\"484.5\">\n",
              "    <tspan class=\"displacy-word\" fill=\"currentColor\" x=\"225\">Doctor</tspan>\n",
              "    <tspan class=\"displacy-tag\" dy=\"2em\" fill=\"currentColor\" x=\"225\">PROPN</tspan>\n",
              "</text>\n",
              "\n",
              "<text class=\"displacy-token\" fill=\"currentColor\" text-anchor=\"middle\" y=\"484.5\">\n",
              "    <tspan class=\"displacy-word\" fill=\"currentColor\" x=\"400\">del</tspan>\n",
              "    <tspan class=\"displacy-tag\" dy=\"2em\" fill=\"currentColor\" x=\"400\">ADP</tspan>\n",
              "</text>\n",
              "\n",
              "<text class=\"displacy-token\" fill=\"currentColor\" text-anchor=\"middle\" y=\"484.5\">\n",
              "    <tspan class=\"displacy-word\" fill=\"currentColor\" x=\"575\">Hospital</tspan>\n",
              "    <tspan class=\"displacy-tag\" dy=\"2em\" fill=\"currentColor\" x=\"575\">PROPN</tspan>\n",
              "</text>\n",
              "\n",
              "<text class=\"displacy-token\" fill=\"currentColor\" text-anchor=\"middle\" y=\"484.5\">\n",
              "    <tspan class=\"displacy-word\" fill=\"currentColor\" x=\"750\">Austríaco</tspan>\n",
              "    <tspan class=\"displacy-tag\" dy=\"2em\" fill=\"currentColor\" x=\"750\">PROPN</tspan>\n",
              "</text>\n",
              "\n",
              "<text class=\"displacy-token\" fill=\"currentColor\" text-anchor=\"middle\" y=\"484.5\">\n",
              "    <tspan class=\"displacy-word\" fill=\"currentColor\" x=\"925\">le</tspan>\n",
              "    <tspan class=\"displacy-tag\" dy=\"2em\" fill=\"currentColor\" x=\"925\">PRON</tspan>\n",
              "</text>\n",
              "\n",
              "<text class=\"displacy-token\" fill=\"currentColor\" text-anchor=\"middle\" y=\"484.5\">\n",
              "    <tspan class=\"displacy-word\" fill=\"currentColor\" x=\"1100\">dijo</tspan>\n",
              "    <tspan class=\"displacy-tag\" dy=\"2em\" fill=\"currentColor\" x=\"1100\">VERB</tspan>\n",
              "</text>\n",
              "\n",
              "<text class=\"displacy-token\" fill=\"currentColor\" text-anchor=\"middle\" y=\"484.5\">\n",
              "    <tspan class=\"displacy-word\" fill=\"currentColor\" x=\"1275\">a</tspan>\n",
              "    <tspan class=\"displacy-tag\" dy=\"2em\" fill=\"currentColor\" x=\"1275\">ADP</tspan>\n",
              "</text>\n",
              "\n",
              "<text class=\"displacy-token\" fill=\"currentColor\" text-anchor=\"middle\" y=\"484.5\">\n",
              "    <tspan class=\"displacy-word\" fill=\"currentColor\" x=\"1450\">Josefina</tspan>\n",
              "    <tspan class=\"displacy-tag\" dy=\"2em\" fill=\"currentColor\" x=\"1450\">PROPN</tspan>\n",
              "</text>\n",
              "\n",
              "<text class=\"displacy-token\" fill=\"currentColor\" text-anchor=\"middle\" y=\"484.5\">\n",
              "    <tspan class=\"displacy-word\" fill=\"currentColor\" x=\"1625\">que</tspan>\n",
              "    <tspan class=\"displacy-tag\" dy=\"2em\" fill=\"currentColor\" x=\"1625\">SCONJ</tspan>\n",
              "</text>\n",
              "\n",
              "<text class=\"displacy-token\" fill=\"currentColor\" text-anchor=\"middle\" y=\"484.5\">\n",
              "    <tspan class=\"displacy-word\" fill=\"currentColor\" x=\"1800\">actuando</tspan>\n",
              "    <tspan class=\"displacy-tag\" dy=\"2em\" fill=\"currentColor\" x=\"1800\">VERB</tspan>\n",
              "</text>\n",
              "\n",
              "<text class=\"displacy-token\" fill=\"currentColor\" text-anchor=\"middle\" y=\"484.5\">\n",
              "    <tspan class=\"displacy-word\" fill=\"currentColor\" x=\"1975\">de</tspan>\n",
              "    <tspan class=\"displacy-tag\" dy=\"2em\" fill=\"currentColor\" x=\"1975\">ADP</tspan>\n",
              "</text>\n",
              "\n",
              "<text class=\"displacy-token\" fill=\"currentColor\" text-anchor=\"middle\" y=\"484.5\">\n",
              "    <tspan class=\"displacy-word\" fill=\"currentColor\" x=\"2150\">maneras</tspan>\n",
              "    <tspan class=\"displacy-tag\" dy=\"2em\" fill=\"currentColor\" x=\"2150\">NOUN</tspan>\n",
              "</text>\n",
              "\n",
              "<text class=\"displacy-token\" fill=\"currentColor\" text-anchor=\"middle\" y=\"484.5\">\n",
              "    <tspan class=\"displacy-word\" fill=\"currentColor\" x=\"2325\">probabilísticas</tspan>\n",
              "    <tspan class=\"displacy-tag\" dy=\"2em\" fill=\"currentColor\" x=\"2325\">ADJ</tspan>\n",
              "</text>\n",
              "\n",
              "<text class=\"displacy-token\" fill=\"currentColor\" text-anchor=\"middle\" y=\"484.5\">\n",
              "    <tspan class=\"displacy-word\" fill=\"currentColor\" x=\"2500\">el</tspan>\n",
              "    <tspan class=\"displacy-tag\" dy=\"2em\" fill=\"currentColor\" x=\"2500\">DET</tspan>\n",
              "</text>\n",
              "\n",
              "<text class=\"displacy-token\" fill=\"currentColor\" text-anchor=\"middle\" y=\"484.5\">\n",
              "    <tspan class=\"displacy-word\" fill=\"currentColor\" x=\"2675\">cerebro</tspan>\n",
              "    <tspan class=\"displacy-tag\" dy=\"2em\" fill=\"currentColor\" x=\"2675\">NOUN</tspan>\n",
              "</text>\n",
              "\n",
              "<text class=\"displacy-token\" fill=\"currentColor\" text-anchor=\"middle\" y=\"484.5\">\n",
              "    <tspan class=\"displacy-word\" fill=\"currentColor\" x=\"2850\">aprende</tspan>\n",
              "    <tspan class=\"displacy-tag\" dy=\"2em\" fill=\"currentColor\" x=\"2850\">VERB</tspan>\n",
              "</text>\n",
              "\n",
              "<text class=\"displacy-token\" fill=\"currentColor\" text-anchor=\"middle\" y=\"484.5\">\n",
              "    <tspan class=\"displacy-word\" fill=\"currentColor\" x=\"3025\">conceptos</tspan>\n",
              "    <tspan class=\"displacy-tag\" dy=\"2em\" fill=\"currentColor\" x=\"3025\">NOUN</tspan>\n",
              "</text>\n",
              "\n",
              "<text class=\"displacy-token\" fill=\"currentColor\" text-anchor=\"middle\" y=\"484.5\">\n",
              "    <tspan class=\"displacy-word\" fill=\"currentColor\" x=\"3200\">discretos. ¡</tspan>\n",
              "    <tspan class=\"displacy-tag\" dy=\"2em\" fill=\"currentColor\" x=\"3200\">ADJ</tspan>\n",
              "</text>\n",
              "\n",
              "<text class=\"displacy-token\" fill=\"currentColor\" text-anchor=\"middle\" y=\"484.5\">\n",
              "    <tspan class=\"displacy-word\" fill=\"currentColor\" x=\"3375\">Qué</tspan>\n",
              "    <tspan class=\"displacy-tag\" dy=\"2em\" fill=\"currentColor\" x=\"3375\">DET</tspan>\n",
              "</text>\n",
              "\n",
              "<text class=\"displacy-token\" fill=\"currentColor\" text-anchor=\"middle\" y=\"484.5\">\n",
              "    <tspan class=\"displacy-word\" fill=\"currentColor\" x=\"3550\">fenómeno</tspan>\n",
              "    <tspan class=\"displacy-tag\" dy=\"2em\" fill=\"currentColor\" x=\"3550\">NOUN</tspan>\n",
              "</text>\n",
              "\n",
              "<text class=\"displacy-token\" fill=\"currentColor\" text-anchor=\"middle\" y=\"484.5\">\n",
              "    <tspan class=\"displacy-word\" fill=\"currentColor\" x=\"3725\">misterioso!</tspan>\n",
              "    <tspan class=\"displacy-tag\" dy=\"2em\" fill=\"currentColor\" x=\"3725\">ADJ</tspan>\n",
              "</text>\n",
              "\n",
              "<g class=\"displacy-arrow\">\n",
              "    <path class=\"displacy-arc\" id=\"arrow-91ccdb3f6b6740e5bd0afff6b4cab3b0-0-0\" stroke-width=\"2px\" d=\"M70,439.5 C70,352.0 205.0,352.0 205.0,439.5\" fill=\"none\" stroke=\"currentColor\"/>\n",
              "    <text dy=\"1.25em\" style=\"font-size: 0.8em; letter-spacing: 1px\">\n",
              "        <textPath xlink:href=\"#arrow-91ccdb3f6b6740e5bd0afff6b4cab3b0-0-0\" class=\"displacy-label\" startOffset=\"50%\" side=\"left\" fill=\"currentColor\" text-anchor=\"middle\">det</textPath>\n",
              "    </text>\n",
              "    <path class=\"displacy-arrowhead\" d=\"M70,441.5 L62,429.5 78,429.5\" fill=\"currentColor\"/>\n",
              "</g>\n",
              "\n",
              "<g class=\"displacy-arrow\">\n",
              "    <path class=\"displacy-arc\" id=\"arrow-91ccdb3f6b6740e5bd0afff6b4cab3b0-0-1\" stroke-width=\"2px\" d=\"M245,439.5 C245,177.0 1090.0,177.0 1090.0,439.5\" fill=\"none\" stroke=\"currentColor\"/>\n",
              "    <text dy=\"1.25em\" style=\"font-size: 0.8em; letter-spacing: 1px\">\n",
              "        <textPath xlink:href=\"#arrow-91ccdb3f6b6740e5bd0afff6b4cab3b0-0-1\" class=\"displacy-label\" startOffset=\"50%\" side=\"left\" fill=\"currentColor\" text-anchor=\"middle\">nsubj</textPath>\n",
              "    </text>\n",
              "    <path class=\"displacy-arrowhead\" d=\"M245,441.5 L237,429.5 253,429.5\" fill=\"currentColor\"/>\n",
              "</g>\n",
              "\n",
              "<g class=\"displacy-arrow\">\n",
              "    <path class=\"displacy-arc\" id=\"arrow-91ccdb3f6b6740e5bd0afff6b4cab3b0-0-2\" stroke-width=\"2px\" d=\"M420,439.5 C420,352.0 555.0,352.0 555.0,439.5\" fill=\"none\" stroke=\"currentColor\"/>\n",
              "    <text dy=\"1.25em\" style=\"font-size: 0.8em; letter-spacing: 1px\">\n",
              "        <textPath xlink:href=\"#arrow-91ccdb3f6b6740e5bd0afff6b4cab3b0-0-2\" class=\"displacy-label\" startOffset=\"50%\" side=\"left\" fill=\"currentColor\" text-anchor=\"middle\">case</textPath>\n",
              "    </text>\n",
              "    <path class=\"displacy-arrowhead\" d=\"M420,441.5 L412,429.5 428,429.5\" fill=\"currentColor\"/>\n",
              "</g>\n",
              "\n",
              "<g class=\"displacy-arrow\">\n",
              "    <path class=\"displacy-arc\" id=\"arrow-91ccdb3f6b6740e5bd0afff6b4cab3b0-0-3\" stroke-width=\"2px\" d=\"M245,439.5 C245,264.5 560.0,264.5 560.0,439.5\" fill=\"none\" stroke=\"currentColor\"/>\n",
              "    <text dy=\"1.25em\" style=\"font-size: 0.8em; letter-spacing: 1px\">\n",
              "        <textPath xlink:href=\"#arrow-91ccdb3f6b6740e5bd0afff6b4cab3b0-0-3\" class=\"displacy-label\" startOffset=\"50%\" side=\"left\" fill=\"currentColor\" text-anchor=\"middle\">flat</textPath>\n",
              "    </text>\n",
              "    <path class=\"displacy-arrowhead\" d=\"M560.0,441.5 L568.0,429.5 552.0,429.5\" fill=\"currentColor\"/>\n",
              "</g>\n",
              "\n",
              "<g class=\"displacy-arrow\">\n",
              "    <path class=\"displacy-arc\" id=\"arrow-91ccdb3f6b6740e5bd0afff6b4cab3b0-0-4\" stroke-width=\"2px\" d=\"M595,439.5 C595,352.0 730.0,352.0 730.0,439.5\" fill=\"none\" stroke=\"currentColor\"/>\n",
              "    <text dy=\"1.25em\" style=\"font-size: 0.8em; letter-spacing: 1px\">\n",
              "        <textPath xlink:href=\"#arrow-91ccdb3f6b6740e5bd0afff6b4cab3b0-0-4\" class=\"displacy-label\" startOffset=\"50%\" side=\"left\" fill=\"currentColor\" text-anchor=\"middle\">flat</textPath>\n",
              "    </text>\n",
              "    <path class=\"displacy-arrowhead\" d=\"M730.0,441.5 L738.0,429.5 722.0,429.5\" fill=\"currentColor\"/>\n",
              "</g>\n",
              "\n",
              "<g class=\"displacy-arrow\">\n",
              "    <path class=\"displacy-arc\" id=\"arrow-91ccdb3f6b6740e5bd0afff6b4cab3b0-0-5\" stroke-width=\"2px\" d=\"M945,439.5 C945,352.0 1080.0,352.0 1080.0,439.5\" fill=\"none\" stroke=\"currentColor\"/>\n",
              "    <text dy=\"1.25em\" style=\"font-size: 0.8em; letter-spacing: 1px\">\n",
              "        <textPath xlink:href=\"#arrow-91ccdb3f6b6740e5bd0afff6b4cab3b0-0-5\" class=\"displacy-label\" startOffset=\"50%\" side=\"left\" fill=\"currentColor\" text-anchor=\"middle\">iobj</textPath>\n",
              "    </text>\n",
              "    <path class=\"displacy-arrowhead\" d=\"M945,441.5 L937,429.5 953,429.5\" fill=\"currentColor\"/>\n",
              "</g>\n",
              "\n",
              "<g class=\"displacy-arrow\">\n",
              "    <path class=\"displacy-arc\" id=\"arrow-91ccdb3f6b6740e5bd0afff6b4cab3b0-0-6\" stroke-width=\"2px\" d=\"M1295,439.5 C1295,352.0 1430.0,352.0 1430.0,439.5\" fill=\"none\" stroke=\"currentColor\"/>\n",
              "    <text dy=\"1.25em\" style=\"font-size: 0.8em; letter-spacing: 1px\">\n",
              "        <textPath xlink:href=\"#arrow-91ccdb3f6b6740e5bd0afff6b4cab3b0-0-6\" class=\"displacy-label\" startOffset=\"50%\" side=\"left\" fill=\"currentColor\" text-anchor=\"middle\">case</textPath>\n",
              "    </text>\n",
              "    <path class=\"displacy-arrowhead\" d=\"M1295,441.5 L1287,429.5 1303,429.5\" fill=\"currentColor\"/>\n",
              "</g>\n",
              "\n",
              "<g class=\"displacy-arrow\">\n",
              "    <path class=\"displacy-arc\" id=\"arrow-91ccdb3f6b6740e5bd0afff6b4cab3b0-0-7\" stroke-width=\"2px\" d=\"M1120,439.5 C1120,264.5 1435.0,264.5 1435.0,439.5\" fill=\"none\" stroke=\"currentColor\"/>\n",
              "    <text dy=\"1.25em\" style=\"font-size: 0.8em; letter-spacing: 1px\">\n",
              "        <textPath xlink:href=\"#arrow-91ccdb3f6b6740e5bd0afff6b4cab3b0-0-7\" class=\"displacy-label\" startOffset=\"50%\" side=\"left\" fill=\"currentColor\" text-anchor=\"middle\">iobj</textPath>\n",
              "    </text>\n",
              "    <path class=\"displacy-arrowhead\" d=\"M1435.0,441.5 L1443.0,429.5 1427.0,429.5\" fill=\"currentColor\"/>\n",
              "</g>\n",
              "\n",
              "<g class=\"displacy-arrow\">\n",
              "    <path class=\"displacy-arc\" id=\"arrow-91ccdb3f6b6740e5bd0afff6b4cab3b0-0-8\" stroke-width=\"2px\" d=\"M1645,439.5 C1645,89.5 2845.0,89.5 2845.0,439.5\" fill=\"none\" stroke=\"currentColor\"/>\n",
              "    <text dy=\"1.25em\" style=\"font-size: 0.8em; letter-spacing: 1px\">\n",
              "        <textPath xlink:href=\"#arrow-91ccdb3f6b6740e5bd0afff6b4cab3b0-0-8\" class=\"displacy-label\" startOffset=\"50%\" side=\"left\" fill=\"currentColor\" text-anchor=\"middle\">mark</textPath>\n",
              "    </text>\n",
              "    <path class=\"displacy-arrowhead\" d=\"M1645,441.5 L1637,429.5 1653,429.5\" fill=\"currentColor\"/>\n",
              "</g>\n",
              "\n",
              "<g class=\"displacy-arrow\">\n",
              "    <path class=\"displacy-arc\" id=\"arrow-91ccdb3f6b6740e5bd0afff6b4cab3b0-0-9\" stroke-width=\"2px\" d=\"M1820,439.5 C1820,177.0 2840.0,177.0 2840.0,439.5\" fill=\"none\" stroke=\"currentColor\"/>\n",
              "    <text dy=\"1.25em\" style=\"font-size: 0.8em; letter-spacing: 1px\">\n",
              "        <textPath xlink:href=\"#arrow-91ccdb3f6b6740e5bd0afff6b4cab3b0-0-9\" class=\"displacy-label\" startOffset=\"50%\" side=\"left\" fill=\"currentColor\" text-anchor=\"middle\">advcl</textPath>\n",
              "    </text>\n",
              "    <path class=\"displacy-arrowhead\" d=\"M1820,441.5 L1812,429.5 1828,429.5\" fill=\"currentColor\"/>\n",
              "</g>\n",
              "\n",
              "<g class=\"displacy-arrow\">\n",
              "    <path class=\"displacy-arc\" id=\"arrow-91ccdb3f6b6740e5bd0afff6b4cab3b0-0-10\" stroke-width=\"2px\" d=\"M1995,439.5 C1995,352.0 2130.0,352.0 2130.0,439.5\" fill=\"none\" stroke=\"currentColor\"/>\n",
              "    <text dy=\"1.25em\" style=\"font-size: 0.8em; letter-spacing: 1px\">\n",
              "        <textPath xlink:href=\"#arrow-91ccdb3f6b6740e5bd0afff6b4cab3b0-0-10\" class=\"displacy-label\" startOffset=\"50%\" side=\"left\" fill=\"currentColor\" text-anchor=\"middle\">case</textPath>\n",
              "    </text>\n",
              "    <path class=\"displacy-arrowhead\" d=\"M1995,441.5 L1987,429.5 2003,429.5\" fill=\"currentColor\"/>\n",
              "</g>\n",
              "\n",
              "<g class=\"displacy-arrow\">\n",
              "    <path class=\"displacy-arc\" id=\"arrow-91ccdb3f6b6740e5bd0afff6b4cab3b0-0-11\" stroke-width=\"2px\" d=\"M1820,439.5 C1820,264.5 2135.0,264.5 2135.0,439.5\" fill=\"none\" stroke=\"currentColor\"/>\n",
              "    <text dy=\"1.25em\" style=\"font-size: 0.8em; letter-spacing: 1px\">\n",
              "        <textPath xlink:href=\"#arrow-91ccdb3f6b6740e5bd0afff6b4cab3b0-0-11\" class=\"displacy-label\" startOffset=\"50%\" side=\"left\" fill=\"currentColor\" text-anchor=\"middle\">obl</textPath>\n",
              "    </text>\n",
              "    <path class=\"displacy-arrowhead\" d=\"M2135.0,441.5 L2143.0,429.5 2127.0,429.5\" fill=\"currentColor\"/>\n",
              "</g>\n",
              "\n",
              "<g class=\"displacy-arrow\">\n",
              "    <path class=\"displacy-arc\" id=\"arrow-91ccdb3f6b6740e5bd0afff6b4cab3b0-0-12\" stroke-width=\"2px\" d=\"M2170,439.5 C2170,352.0 2305.0,352.0 2305.0,439.5\" fill=\"none\" stroke=\"currentColor\"/>\n",
              "    <text dy=\"1.25em\" style=\"font-size: 0.8em; letter-spacing: 1px\">\n",
              "        <textPath xlink:href=\"#arrow-91ccdb3f6b6740e5bd0afff6b4cab3b0-0-12\" class=\"displacy-label\" startOffset=\"50%\" side=\"left\" fill=\"currentColor\" text-anchor=\"middle\">amod</textPath>\n",
              "    </text>\n",
              "    <path class=\"displacy-arrowhead\" d=\"M2305.0,441.5 L2313.0,429.5 2297.0,429.5\" fill=\"currentColor\"/>\n",
              "</g>\n",
              "\n",
              "<g class=\"displacy-arrow\">\n",
              "    <path class=\"displacy-arc\" id=\"arrow-91ccdb3f6b6740e5bd0afff6b4cab3b0-0-13\" stroke-width=\"2px\" d=\"M2520,439.5 C2520,352.0 2655.0,352.0 2655.0,439.5\" fill=\"none\" stroke=\"currentColor\"/>\n",
              "    <text dy=\"1.25em\" style=\"font-size: 0.8em; letter-spacing: 1px\">\n",
              "        <textPath xlink:href=\"#arrow-91ccdb3f6b6740e5bd0afff6b4cab3b0-0-13\" class=\"displacy-label\" startOffset=\"50%\" side=\"left\" fill=\"currentColor\" text-anchor=\"middle\">det</textPath>\n",
              "    </text>\n",
              "    <path class=\"displacy-arrowhead\" d=\"M2520,441.5 L2512,429.5 2528,429.5\" fill=\"currentColor\"/>\n",
              "</g>\n",
              "\n",
              "<g class=\"displacy-arrow\">\n",
              "    <path class=\"displacy-arc\" id=\"arrow-91ccdb3f6b6740e5bd0afff6b4cab3b0-0-14\" stroke-width=\"2px\" d=\"M2695,439.5 C2695,352.0 2830.0,352.0 2830.0,439.5\" fill=\"none\" stroke=\"currentColor\"/>\n",
              "    <text dy=\"1.25em\" style=\"font-size: 0.8em; letter-spacing: 1px\">\n",
              "        <textPath xlink:href=\"#arrow-91ccdb3f6b6740e5bd0afff6b4cab3b0-0-14\" class=\"displacy-label\" startOffset=\"50%\" side=\"left\" fill=\"currentColor\" text-anchor=\"middle\">nsubj</textPath>\n",
              "    </text>\n",
              "    <path class=\"displacy-arrowhead\" d=\"M2695,441.5 L2687,429.5 2703,429.5\" fill=\"currentColor\"/>\n",
              "</g>\n",
              "\n",
              "<g class=\"displacy-arrow\">\n",
              "    <path class=\"displacy-arc\" id=\"arrow-91ccdb3f6b6740e5bd0afff6b4cab3b0-0-15\" stroke-width=\"2px\" d=\"M1120,439.5 C1120,2.0 2850.0,2.0 2850.0,439.5\" fill=\"none\" stroke=\"currentColor\"/>\n",
              "    <text dy=\"1.25em\" style=\"font-size: 0.8em; letter-spacing: 1px\">\n",
              "        <textPath xlink:href=\"#arrow-91ccdb3f6b6740e5bd0afff6b4cab3b0-0-15\" class=\"displacy-label\" startOffset=\"50%\" side=\"left\" fill=\"currentColor\" text-anchor=\"middle\">ccomp</textPath>\n",
              "    </text>\n",
              "    <path class=\"displacy-arrowhead\" d=\"M2850.0,441.5 L2858.0,429.5 2842.0,429.5\" fill=\"currentColor\"/>\n",
              "</g>\n",
              "\n",
              "<g class=\"displacy-arrow\">\n",
              "    <path class=\"displacy-arc\" id=\"arrow-91ccdb3f6b6740e5bd0afff6b4cab3b0-0-16\" stroke-width=\"2px\" d=\"M2870,439.5 C2870,352.0 3005.0,352.0 3005.0,439.5\" fill=\"none\" stroke=\"currentColor\"/>\n",
              "    <text dy=\"1.25em\" style=\"font-size: 0.8em; letter-spacing: 1px\">\n",
              "        <textPath xlink:href=\"#arrow-91ccdb3f6b6740e5bd0afff6b4cab3b0-0-16\" class=\"displacy-label\" startOffset=\"50%\" side=\"left\" fill=\"currentColor\" text-anchor=\"middle\">obj</textPath>\n",
              "    </text>\n",
              "    <path class=\"displacy-arrowhead\" d=\"M3005.0,441.5 L3013.0,429.5 2997.0,429.5\" fill=\"currentColor\"/>\n",
              "</g>\n",
              "\n",
              "<g class=\"displacy-arrow\">\n",
              "    <path class=\"displacy-arc\" id=\"arrow-91ccdb3f6b6740e5bd0afff6b4cab3b0-0-17\" stroke-width=\"2px\" d=\"M3045,439.5 C3045,352.0 3180.0,352.0 3180.0,439.5\" fill=\"none\" stroke=\"currentColor\"/>\n",
              "    <text dy=\"1.25em\" style=\"font-size: 0.8em; letter-spacing: 1px\">\n",
              "        <textPath xlink:href=\"#arrow-91ccdb3f6b6740e5bd0afff6b4cab3b0-0-17\" class=\"displacy-label\" startOffset=\"50%\" side=\"left\" fill=\"currentColor\" text-anchor=\"middle\">amod</textPath>\n",
              "    </text>\n",
              "    <path class=\"displacy-arrowhead\" d=\"M3180.0,441.5 L3188.0,429.5 3172.0,429.5\" fill=\"currentColor\"/>\n",
              "</g>\n",
              "\n",
              "<g class=\"displacy-arrow\">\n",
              "    <path class=\"displacy-arc\" id=\"arrow-91ccdb3f6b6740e5bd0afff6b4cab3b0-0-18\" stroke-width=\"2px\" d=\"M3395,439.5 C3395,352.0 3530.0,352.0 3530.0,439.5\" fill=\"none\" stroke=\"currentColor\"/>\n",
              "    <text dy=\"1.25em\" style=\"font-size: 0.8em; letter-spacing: 1px\">\n",
              "        <textPath xlink:href=\"#arrow-91ccdb3f6b6740e5bd0afff6b4cab3b0-0-18\" class=\"displacy-label\" startOffset=\"50%\" side=\"left\" fill=\"currentColor\" text-anchor=\"middle\">det</textPath>\n",
              "    </text>\n",
              "    <path class=\"displacy-arrowhead\" d=\"M3395,441.5 L3387,429.5 3403,429.5\" fill=\"currentColor\"/>\n",
              "</g>\n",
              "\n",
              "<g class=\"displacy-arrow\">\n",
              "    <path class=\"displacy-arc\" id=\"arrow-91ccdb3f6b6740e5bd0afff6b4cab3b0-0-19\" stroke-width=\"2px\" d=\"M3570,439.5 C3570,352.0 3705.0,352.0 3705.0,439.5\" fill=\"none\" stroke=\"currentColor\"/>\n",
              "    <text dy=\"1.25em\" style=\"font-size: 0.8em; letter-spacing: 1px\">\n",
              "        <textPath xlink:href=\"#arrow-91ccdb3f6b6740e5bd0afff6b4cab3b0-0-19\" class=\"displacy-label\" startOffset=\"50%\" side=\"left\" fill=\"currentColor\" text-anchor=\"middle\">amod</textPath>\n",
              "    </text>\n",
              "    <path class=\"displacy-arrowhead\" d=\"M3705.0,441.5 L3713.0,429.5 3697.0,429.5\" fill=\"currentColor\"/>\n",
              "</g>\n",
              "</svg></span>"
            ]
          },
          "metadata": {}
        }
      ],
      "source": [
        "displacy.render(doc, style='dep', jupyter=True)"
      ]
    },
    {
      "cell_type": "markdown",
      "metadata": {
        "id": "PhSznS5QxUdg"
      },
      "source": [
        "## Reconocimiento de Entidades\n",
        "\n",
        "Podemos encontrar las personas (más general, \"entes\") que se mencionan en los textos:"
      ]
    },
    {
      "cell_type": "code",
      "execution_count": null,
      "metadata": {
        "colab": {
          "base_uri": "https://localhost:8080/"
        },
        "id": "vWzeZ-DVxUdk",
        "outputId": "7be22a3f-6f93-4422-eea0-d61fdc848446"
      },
      "outputs": [
        {
          "output_type": "execute_result",
          "data": {
            "text/plain": [
              "(Doctor, Hospital Austríaco, Josefina)"
            ]
          },
          "metadata": {},
          "execution_count": 79
        }
      ],
      "source": [
        "doc.ents"
      ]
    },
    {
      "cell_type": "code",
      "execution_count": null,
      "metadata": {
        "colab": {
          "base_uri": "https://localhost:8080/",
          "height": 52
        },
        "id": "IbrftXE0xUdw",
        "outputId": "8ea3028c-12f3-45b5-f59f-89fa49b4e05b"
      },
      "outputs": [
        {
          "output_type": "display_data",
          "data": {
            "text/plain": [
              "<IPython.core.display.HTML object>"
            ],
            "text/html": [
              "<span class=\"tex2jax_ignore\"><div class=\"entities\" style=\"line-height: 2.5; direction: ltr\">El \n",
              "<mark class=\"entity\" style=\"background: #ddd; padding: 0.45em 0.6em; margin: 0 0.25em; line-height: 1; border-radius: 0.35em;\">\n",
              "    Doctor\n",
              "    <span style=\"font-size: 0.8em; font-weight: bold; line-height: 1; border-radius: 0.35em; vertical-align: middle; margin-left: 0.5rem\">MISC</span>\n",
              "</mark>\n",
              " del \n",
              "<mark class=\"entity\" style=\"background: #ff9561; padding: 0.45em 0.6em; margin: 0 0.25em; line-height: 1; border-radius: 0.35em;\">\n",
              "    Hospital Austríaco\n",
              "    <span style=\"font-size: 0.8em; font-weight: bold; line-height: 1; border-radius: 0.35em; vertical-align: middle; margin-left: 0.5rem\">LOC</span>\n",
              "</mark>\n",
              " le dijo a \n",
              "<mark class=\"entity\" style=\"background: #ddd; padding: 0.45em 0.6em; margin: 0 0.25em; line-height: 1; border-radius: 0.35em;\">\n",
              "    Josefina\n",
              "    <span style=\"font-size: 0.8em; font-weight: bold; line-height: 1; border-radius: 0.35em; vertical-align: middle; margin-left: 0.5rem\">PER</span>\n",
              "</mark>\n",
              " que actuando de maneras probabilísticas el cerebro aprende conceptos discretos. ¡Qué fenómeno misterioso!</div></span>"
            ]
          },
          "metadata": {}
        }
      ],
      "source": [
        "displacy.render(doc, style='ent', jupyter=True);"
      ]
    }
  ]
}